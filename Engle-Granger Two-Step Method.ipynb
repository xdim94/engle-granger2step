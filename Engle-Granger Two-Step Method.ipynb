{
 "cells": [
  {
   "cell_type": "code",
   "execution_count": 1,
   "id": "64da5557",
   "metadata": {},
   "outputs": [],
   "source": [
    "import numpy as np\n",
    "import pandas as pd\n",
    "from pandas_datareader import data\n",
    "import matplotlib.pyplot as plt\n",
    "import seaborn as sns\n",
    "from scipy.stats import norm\n",
    "%matplotlib inline"
   ]
  },
  {
   "cell_type": "code",
   "execution_count": 2,
   "id": "516a8757",
   "metadata": {},
   "outputs": [
    {
     "data": {
      "text/html": [
       "<div>\n",
       "<style scoped>\n",
       "    .dataframe tbody tr th:only-of-type {\n",
       "        vertical-align: middle;\n",
       "    }\n",
       "\n",
       "    .dataframe tbody tr th {\n",
       "        vertical-align: top;\n",
       "    }\n",
       "\n",
       "    .dataframe thead th {\n",
       "        text-align: right;\n",
       "    }\n",
       "</style>\n",
       "<table border=\"1\" class=\"dataframe\">\n",
       "  <thead>\n",
       "    <tr style=\"text-align: right;\">\n",
       "      <th></th>\n",
       "      <th>Date</th>\n",
       "      <th>EUSTX50</th>\n",
       "      <th>CAC 40</th>\n",
       "      <th>IBEX 35</th>\n",
       "      <th>DAX</th>\n",
       "      <th>IT40</th>\n",
       "    </tr>\n",
       "  </thead>\n",
       "  <tbody>\n",
       "    <tr>\n",
       "      <th>0</th>\n",
       "      <td>2010-01-01</td>\n",
       "      <td>2776.83</td>\n",
       "      <td>3739.46</td>\n",
       "      <td>10947.7</td>\n",
       "      <td>5608.79</td>\n",
       "      <td>21896.29</td>\n",
       "    </tr>\n",
       "    <tr>\n",
       "      <th>1</th>\n",
       "      <td>2010-02-01</td>\n",
       "      <td>2728.47</td>\n",
       "      <td>3708.80</td>\n",
       "      <td>10333.6</td>\n",
       "      <td>5598.46</td>\n",
       "      <td>21068.32</td>\n",
       "    </tr>\n",
       "    <tr>\n",
       "      <th>2</th>\n",
       "      <td>2010-03-01</td>\n",
       "      <td>2931.16</td>\n",
       "      <td>3974.01</td>\n",
       "      <td>10871.3</td>\n",
       "      <td>6153.55</td>\n",
       "      <td>22847.97</td>\n",
       "    </tr>\n",
       "    <tr>\n",
       "      <th>3</th>\n",
       "      <td>2010-04-01</td>\n",
       "      <td>2816.86</td>\n",
       "      <td>3816.99</td>\n",
       "      <td>10492.2</td>\n",
       "      <td>6135.70</td>\n",
       "      <td>21562.48</td>\n",
       "    </tr>\n",
       "    <tr>\n",
       "      <th>4</th>\n",
       "      <td>2010-05-01</td>\n",
       "      <td>2610.26</td>\n",
       "      <td>3507.56</td>\n",
       "      <td>9359.4</td>\n",
       "      <td>5964.33</td>\n",
       "      <td>19543.97</td>\n",
       "    </tr>\n",
       "  </tbody>\n",
       "</table>\n",
       "</div>"
      ],
      "text/plain": [
       "        Date  EUSTX50   CAC 40  IBEX 35      DAX      IT40\n",
       "0 2010-01-01  2776.83  3739.46  10947.7  5608.79  21896.29\n",
       "1 2010-02-01  2728.47  3708.80  10333.6  5598.46  21068.32\n",
       "2 2010-03-01  2931.16  3974.01  10871.3  6153.55  22847.97\n",
       "3 2010-04-01  2816.86  3816.99  10492.2  6135.70  21562.48\n",
       "4 2010-05-01  2610.26  3507.56   9359.4  5964.33  19543.97"
      ]
     },
     "execution_count": 2,
     "metadata": {},
     "output_type": "execute_result"
    }
   ],
   "source": [
    "df1 = pd.read_csv('europe indices monthly.csv', parse_dates=['Date'])\n",
    "df1.head()\n"
   ]
  },
  {
   "cell_type": "code",
   "execution_count": 3,
   "id": "71bc1c2c",
   "metadata": {},
   "outputs": [
    {
     "name": "stdout",
     "output_type": "stream",
     "text": [
      "0         NaN\n",
      "1   -0.017416\n",
      "2    0.074287\n",
      "3   -0.038995\n",
      "4   -0.073344\n",
      "Name: EUSTX50, dtype: float64\n",
      "Number of returns: 143\n"
     ]
    }
   ],
   "source": [
    "EUSTX50_monthly_returns=df1['EUSTX50'].pct_change()\n",
    "print(EUSTX50_monthly_returns.head())\n"
   ]
  },
  {
   "cell_type": "code",
   "execution_count": 4,
   "id": "d870bb40",
   "metadata": {},
   "outputs": [
    {
     "name": "stdout",
     "output_type": "stream",
     "text": [
      "0         NaN\n",
      "1   -0.008199\n",
      "2    0.071508\n",
      "3   -0.039512\n",
      "4   -0.081066\n",
      "Name: CAC 40, dtype: float64\n"
     ]
    }
   ],
   "source": [
    "CAC40_monthly_returns=df1['CAC 40'].pct_change()\n",
    "print(CAC40_monthly_returns.head())"
   ]
  },
  {
   "cell_type": "code",
   "execution_count": 5,
   "id": "d95dc5d0",
   "metadata": {},
   "outputs": [
    {
     "name": "stdout",
     "output_type": "stream",
     "text": [
      "0         NaN\n",
      "1   -0.056094\n",
      "2    0.052034\n",
      "3   -0.034872\n",
      "4   -0.107966\n",
      "Name: IBEX 35, dtype: float64\n"
     ]
    }
   ],
   "source": [
    "IBEX35_monthly_returns=df1['IBEX 35'].pct_change()\n",
    "print(IBEX35_monthly_returns.head())"
   ]
  },
  {
   "cell_type": "code",
   "execution_count": 6,
   "id": "c56f24ce",
   "metadata": {},
   "outputs": [
    {
     "name": "stdout",
     "output_type": "stream",
     "text": [
      "0         NaN\n",
      "1   -0.001842\n",
      "2    0.099150\n",
      "3   -0.002901\n",
      "4   -0.027930\n",
      "Name: DAX, dtype: float64\n"
     ]
    }
   ],
   "source": [
    "DAX_monthly_returns=df1['DAX'].pct_change()\n",
    "print(DAX_monthly_returns.head())"
   ]
  },
  {
   "cell_type": "code",
   "execution_count": 7,
   "id": "c45d320e",
   "metadata": {},
   "outputs": [
    {
     "name": "stdout",
     "output_type": "stream",
     "text": [
      "0         NaN\n",
      "1   -0.037813\n",
      "2    0.084470\n",
      "3   -0.056263\n",
      "4   -0.093612\n",
      "Name: IT40, dtype: float64\n"
     ]
    }
   ],
   "source": [
    "IT40_monthly_returns=df1['IT40'].pct_change()\n",
    "print(IT40_monthly_returns.head())"
   ]
  },
  {
   "cell_type": "code",
   "execution_count": 12,
   "id": "5fb355bd",
   "metadata": {},
   "outputs": [
    {
     "name": "stdout",
     "output_type": "stream",
     "text": [
      "Engle-Granger Two-Step Method Results:\n",
      "Cointegration t-statistic: -9.81278285734548\n",
      "Critical value at 5% significance: -3.379497248561793\n",
      "There is evidence of cointegration between DAX and IT40.\n"
     ]
    }
   ],
   "source": [
    "import pandas as pd\n",
    "from statsmodels.tsa.stattools import coint\n",
    "\n",
    "# Define your returns_dict with sample data for DAX and IT40\n",
    "returns_dict = {\n",
    "    'DAX': DAX_monthly_returns,\n",
    "    'IT40': IT40_monthly_returns,\n",
    "    # Add other assets if needed\n",
    "}\n",
    "\n",
    "# Choose the pair of returns for cointegration analysis\n",
    "returns_pair = ('DAX', 'IT40')\n",
    "\n",
    "# Extract the returns series for the selected pair\n",
    "returns_1 = returns_dict[returns_pair[0]]\n",
    "returns_2 = returns_dict[returns_pair[1]]\n",
    "\n",
    "\n",
    "\n",
    "\n",
    "returns_1 = returns_1.dropna()\n",
    "returns_2 = returns_2.dropna()\n",
    "\n",
    "\n",
    "if returns_1.isnull().any() or np.isinf(returns_1).any() or np.isnan(returns_1).any():\n",
    "    print(f\"{returns_pair[0]} still contains missing, infinite, or NaN values after removal.\")\n",
    "elif returns_2.isnull().any() or np.isinf(returns_2).any() or np.isnan(returns_2).any():\n",
    "    print(f\"{returns_pair[1]} still contains missing, infinite, or NaN values after removal.\")\n",
    "else:\n",
    "    # Step 1: Perform the Engle-Granger Two-Step Method\n",
    "    cointegration_test = coint(returns_1, returns_2)\n",
    "    print(\"Engle-Granger Two-Step Method Results:\")\n",
    "    print(\"Cointegration t-statistic:\", cointegration_test[0])\n",
    "    print(\"Critical value at 5% significance:\", cointegration_test[2][1])\n",
    "\n",
    "    # Check if the pair is cointegrated\n",
    "    if cointegration_test[0] < cointegration_test[2][1]:\n",
    "        print(f\"There is evidence of cointegration between {returns_pair[0]} and {returns_pair[1]}.\")\n",
    "    else:\n",
    "        print(f\"There is no evidence of cointegration between {returns_pair[0]} and {returns_pair[1]}.\")\n"
   ]
  },
  {
   "cell_type": "code",
   "execution_count": 13,
   "id": "35820035",
   "metadata": {},
   "outputs": [
    {
     "name": "stdout",
     "output_type": "stream",
     "text": [
      "Cointegration between DAX and IT40:\n",
      "Cointegration t-statistic: -9.81278285734548\n",
      "Critical value at 5% significance: -3.379497248561793\n",
      "There is evidence of cointegration between DAX and IT40.\n",
      "Cointegration between DAX and IBEX35:\n",
      "Cointegration t-statistic: -7.353237326220344\n",
      "Critical value at 5% significance: -3.379497248561793\n",
      "There is evidence of cointegration between DAX and IBEX35.\n",
      "Cointegration between DAX and EUSTX50:\n",
      "Cointegration t-statistic: -11.499408006484366\n",
      "Critical value at 5% significance: -3.379497248561793\n",
      "There is evidence of cointegration between DAX and EUSTX50.\n",
      "Cointegration between DAX and CAC40:\n",
      "Cointegration t-statistic: -9.565909760024926\n",
      "Critical value at 5% significance: -3.379497248561793\n",
      "There is evidence of cointegration between DAX and CAC40.\n",
      "Cointegration between IT40 and IBEX35:\n",
      "Cointegration t-statistic: -11.080071407465589\n",
      "Critical value at 5% significance: -3.379497248561793\n",
      "There is evidence of cointegration between IT40 and IBEX35.\n",
      "Cointegration between IT40 and EUSTX50:\n",
      "Cointegration t-statistic: -13.172813356113728\n",
      "Critical value at 5% significance: -3.379497248561793\n",
      "There is evidence of cointegration between IT40 and EUSTX50.\n",
      "Cointegration between IT40 and CAC40:\n",
      "Cointegration t-statistic: -14.098183791290609\n",
      "Critical value at 5% significance: -3.379497248561793\n",
      "There is evidence of cointegration between IT40 and CAC40.\n",
      "Cointegration between IBEX35 and EUSTX50:\n",
      "Cointegration t-statistic: -12.11965858434736\n",
      "Critical value at 5% significance: -3.379497248561793\n",
      "There is evidence of cointegration between IBEX35 and EUSTX50.\n",
      "Cointegration between IBEX35 and CAC40:\n",
      "Cointegration t-statistic: -12.231226461393618\n",
      "Critical value at 5% significance: -3.379497248561793\n",
      "There is evidence of cointegration between IBEX35 and CAC40.\n",
      "Cointegration between EUSTX50 and CAC40:\n",
      "Cointegration t-statistic: -12.282888132678801\n",
      "Critical value at 5% significance: -3.379497248561793\n",
      "There is evidence of cointegration between EUSTX50 and CAC40.\n"
     ]
    }
   ],
   "source": [
    "import pandas as pd\n",
    "from statsmodels.tsa.stattools import coint\n",
    "import itertools\n",
    "\n",
    "# Assuming 'returns_dict' contains the returns data for your 5 indices\n",
    "returns_dict = {\n",
    "    'DAX': DAX_monthly_returns,\n",
    "    'IT40': IT40_monthly_returns,\n",
    "    'IBEX35': IBEX35_monthly_returns,\n",
    "    'EUSTX50': EUSTX50_monthly_returns,\n",
    "    'CAC40': CAC40_monthly_returns,\n",
    "}\n",
    "\n",
    "# Create a list of all indices\n",
    "indices = list(returns_dict.keys())\n",
    "\n",
    "# Perform Engle-Granger Two-Step Method for all pairs of indices\n",
    "for pair in itertools.combinations(indices, 2):\n",
    "    index_1 = pair[0]\n",
    "    index_2 = pair[1]\n",
    "    \n",
    "    # Extract the returns series for the selected pair\n",
    "    returns_1 = returns_dict[index_1]\n",
    "    returns_2 = returns_dict[index_2]\n",
    "\n",
    "    # Remove missing values (NAs) from both series\n",
    "    returns_1 = returns_1.dropna()\n",
    "    returns_2 = returns_2.dropna()\n",
    "\n",
    "    # Check if there are any missing, infinite, or NaN values after removal\n",
    "    if returns_1.isnull().any() or np.isinf(returns_1).any() or np.isnan(returns_1).any():\n",
    "        print(f\"{index_1} still contains missing, infinite, or NaN values after removal.\")\n",
    "    elif returns_2.isnull().any() or np.isinf(returns_2).any() or np.isnan(returns_2).any():\n",
    "        print(f\"{index_2} still contains missing, infinite, or NaN values after removal.\")\n",
    "    else:\n",
    "        # Perform the Engle-Granger Two-Step Method\n",
    "        cointegration_test = coint(returns_1, returns_2)\n",
    "        print(f\"Cointegration between {index_1} and {index_2}:\")\n",
    "        print(\"Cointegration t-statistic:\", cointegration_test[0])\n",
    "        print(\"Critical value at 5% significance:\", cointegration_test[2][1])\n",
    "        \n",
    "        # Check if the pair is cointegrated\n",
    "        if cointegration_test[0] < cointegration_test[2][1]:\n",
    "            print(f\"There is evidence of cointegration between {index_1} and {index_2}.\")\n",
    "        else:\n",
    "            print(f\"There is no evidence of cointegration between {index_1} and {index_2}.\")\n"
   ]
  },
  {
   "cell_type": "code",
   "execution_count": null,
   "id": "a633e6ea",
   "metadata": {},
   "outputs": [],
   "source": []
  }
 ],
 "metadata": {
  "kernelspec": {
   "display_name": "Python 3 (ipykernel)",
   "language": "python",
   "name": "python3"
  },
  "language_info": {
   "codemirror_mode": {
    "name": "ipython",
    "version": 3
   },
   "file_extension": ".py",
   "mimetype": "text/x-python",
   "name": "python",
   "nbconvert_exporter": "python",
   "pygments_lexer": "ipython3",
   "version": "3.9.12"
  }
 },
 "nbformat": 4,
 "nbformat_minor": 5
}
